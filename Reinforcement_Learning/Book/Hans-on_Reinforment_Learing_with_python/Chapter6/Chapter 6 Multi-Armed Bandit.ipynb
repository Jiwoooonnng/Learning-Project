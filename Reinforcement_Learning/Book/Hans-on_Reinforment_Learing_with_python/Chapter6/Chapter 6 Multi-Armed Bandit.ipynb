{
 "cells": [
  {
   "cell_type": "markdown",
   "metadata": {},
   "source": [
    "# Chapter 5 Temporal Difference Learning\n",
    "\n",
    "## Temporal Difference(TD) Learning\n",
    "\n",
    "- Monte Carlo 방법의 장점(모델의 동적 특성을 몰라도 됨)과 DP 방법(에피소드가 끝나길 기다리지 않아도 됨)의 장점을 통합\n",
    "- Bootstrapping : 이전 학습한 추정 값에 기반하여 현재 추정값을 근사\n",
    "\n",
    "##  TD Prediction\n",
    "\n",
    "- 가치함수 업데이트 방법\n",
    "\n",
    "$$ V(s) \\;\\colon=\\; V(s) + \\alpha(r + \\gamma V(s^{'}) - V(s)) $$\n",
    "$$ r \\,:\\, reward,\\, s^{'} \\,:\\, current\\,state,\\, s \\,:\\, previous state $$\n",
    "$$ \\gamma \\,:\\, discount factor\\,,\\, \\alpha \\,:\\, learning\\, rate(=step size) $$\n",
    "\n",
    "$$ TD Error \\;:\\; \\alpha(r + \\gamma V(s^{'}) - V(s)) $$\n",
    "\n",
    "- 목표 : TD Error를 최소화\n",
    "\n",
    "## TD Control\n",
    "\n",
    "- 가치함수를 최적화하는 방법\n",
    "\n",
    "> ### Off-Policy Learning Algorithm : Q-Learning\n",
    "> - 상태 가치함수에 관심 없음\n",
    "> - $Q(s,a)$의 업데이트 방법\n",
    ">\n",
    "> $$ Q(s,a) \\;\\colon=\\; Q(s,a) + \\alpha(r + \\gamma \\max Q(s^{'},a^{'}) - Q(s,a)) $$\n",
    ">\n",
    ">\n",
    "> - 행동 선택 시 : Epsillon-Greedy 정책\n",
    "> - $Q$업데이트 시 : 최대값 사용\n",
    ">\n",
    "> - 알고리즘\n",
    "> <img src=\"theory images/Q_L.png\">\n",
    "\n",
    "> ### On-Policy Learning Algorithm : SARSA(State-Action-Reward-State-Action)\n",
    "> - $Q(s,a)$의 업데이트 방법\n",
    ">\n",
    "> $$ Q(s,a) \\;\\colon=\\; Q(s,a) + \\alpha(r + \\gamma Q(s^{'},a^{'}) - Q(s,a)) $$\n",
    ">\n",
    "> - 행동 선택 시 : Epsillon-Greedy 정책\n",
    "> - $Q$업데이트 시 : Epsillon-Greedy 정책\n",
    ">\n",
    "> - 알고리즘\n",
    "> <img src=\"theory images/SARSA.png\">\n"
   ]
  },
  {
   "cell_type": "code",
   "execution_count": null,
   "metadata": {},
   "outputs": [],
   "source": []
  }
 ],
 "metadata": {
  "kernelspec": {
   "display_name": "Python 3",
   "language": "python",
   "name": "python3"
  },
  "language_info": {
   "codemirror_mode": {
    "name": "ipython",
    "version": 3
   },
   "file_extension": ".py",
   "mimetype": "text/x-python",
   "name": "python",
   "nbconvert_exporter": "python",
   "pygments_lexer": "ipython3",
   "version": "3.6.7"
  }
 },
 "nbformat": 4,
 "nbformat_minor": 2
}
